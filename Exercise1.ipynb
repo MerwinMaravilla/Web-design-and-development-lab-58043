{
  "nbformat": 4,
  "nbformat_minor": 0,
  "metadata": {
    "colab": {
      "name": "Exercise1.ipynb",
      "provenance": [],
      "authorship_tag": "ABX9TyMOyVoHS7y5cpiG2CrH0o9c",
      "include_colab_link": true
    },
    "kernelspec": {
      "name": "python3",
      "display_name": "Python 3"
    },
    "language_info": {
      "name": "python"
    }
  },
  "cells": [
    {
      "cell_type": "markdown",
      "metadata": {
        "id": "view-in-github",
        "colab_type": "text"
      },
      "source": [
        "<a href=\"https://colab.research.google.com/github/MerwinMaravilla/Web-design-and-development-lab-58043/blob/main/Exercise1.ipynb\" target=\"_parent\"><img src=\"https://colab.research.google.com/assets/colab-badge.svg\" alt=\"Open In Colab\"/></a>"
      ]
    },
    {
      "cell_type": "code",
      "execution_count": 1,
      "metadata": {
        "colab": {
          "base_uri": "https://localhost:8080/"
        },
        "id": "JonyH4_FmiZE",
        "outputId": "79a861ae-2af3-4669-e6b1-feb5c91d3d3f"
      },
      "outputs": [
        {
          "output_type": "stream",
          "name": "stdout",
          "text": [
            "Area of circle = 113.040000\n"
          ]
        }
      ],
      "source": [
        "def findArea(r):\n",
        "    PI = 3.14\n",
        "    return PI * (r*r);\n",
        "print(\"Area of circle = %.6f\" % findArea(6));"
      ]
    }
  ]
}